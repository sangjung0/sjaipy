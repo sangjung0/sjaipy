{
 "cells": [
  {
   "cell_type": "code",
   "execution_count": null,
   "id": "104d87a5",
   "metadata": {},
   "outputs": [],
   "source": [
    "from IPython.display import Audio"
   ]
  },
  {
   "cell_type": "code",
   "execution_count": null,
   "id": "54f17338",
   "metadata": {},
   "outputs": [],
   "source": [
    "from sj_ai_utils.datasets.hugging_face import KSPonSpeech"
   ]
  },
  {
   "cell_type": "code",
   "execution_count": null,
   "id": "546ad6f2",
   "metadata": {},
   "outputs": [],
   "source": [
    "ks_pon_speech = KSPonSpeech()"
   ]
  },
  {
   "cell_type": "code",
   "execution_count": null,
   "id": "cd29a4dc",
   "metadata": {},
   "outputs": [],
   "source": [
    "ks_pon_speech.config_names"
   ]
  },
  {
   "cell_type": "code",
   "execution_count": null,
   "id": "9257817c",
   "metadata": {},
   "outputs": [],
   "source": [
    "ks_pon_speech.split_names()"
   ]
  },
  {
   "cell_type": "code",
   "execution_count": null,
   "id": "c5b971e3",
   "metadata": {},
   "outputs": [],
   "source": [
    "test = ks_pon_speech.test()"
   ]
  },
  {
   "cell_type": "code",
   "execution_count": null,
   "id": "a7f76daf",
   "metadata": {},
   "outputs": [],
   "source": [
    "type(test), len(test)"
   ]
  },
  {
   "cell_type": "code",
   "execution_count": null,
   "id": "e5ec1075",
   "metadata": {},
   "outputs": [],
   "source": [
    "index = 0"
   ]
  },
  {
   "cell_type": "code",
   "execution_count": null,
   "id": "cf4d2552",
   "metadata": {},
   "outputs": [],
   "source": [
    "_id, audio, txt = test[index]\n",
    "index += 1\n",
    "print(_id, audio.shape, txt)\n",
    "Audio(audio, rate=test.sample_rate)"
   ]
  },
  {
   "cell_type": "code",
   "execution_count": null,
   "id": "09e72e5f",
   "metadata": {},
   "outputs": [],
   "source": [
    "id_set = set()\n",
    "for _id, audio, text in test:\n",
    "    print(f\"{type(audio)} | {_id} | {text[:30]}\")\n",
    "    if _id in id_set:\n",
    "        raise ValueError(f\"Duplicate id found: {_id}\")\n",
    "    id_set.add(_id)\n",
    "    if len(_id) > 255:\n",
    "        raise ValueError(f\"Key length exceeds 255 characters: {_id}\")"
   ]
  }
 ],
 "metadata": {
  "kernelspec": {
   "display_name": "dev",
   "language": "python",
   "name": "python3"
  },
  "language_info": {
   "codemirror_mode": {
    "name": "ipython",
    "version": 3
   },
   "file_extension": ".py",
   "mimetype": "text/x-python",
   "name": "python",
   "nbconvert_exporter": "python",
   "pygments_lexer": "ipython3",
   "version": "3.10.18"
  }
 },
 "nbformat": 4,
 "nbformat_minor": 5
}
