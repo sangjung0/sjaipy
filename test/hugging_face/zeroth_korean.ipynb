{
 "cells": [
  {
   "cell_type": "code",
   "execution_count": null,
   "id": "8c2fc269",
   "metadata": {},
   "outputs": [],
   "source": [
    "from IPython.display import Audio"
   ]
  },
  {
   "cell_type": "code",
   "execution_count": null,
   "id": "f25f3ead",
   "metadata": {},
   "outputs": [],
   "source": [
    "from sj_ai_utils.datasets.hugging_face import ZerothKorean"
   ]
  },
  {
   "cell_type": "code",
   "execution_count": null,
   "id": "e5aa8e0c",
   "metadata": {},
   "outputs": [],
   "source": [
    "zeroth_korean = ZerothKorean()"
   ]
  },
  {
   "cell_type": "code",
   "execution_count": null,
   "id": "84805162",
   "metadata": {},
   "outputs": [],
   "source": [
    "zeroth_korean.config_names"
   ]
  },
  {
   "cell_type": "code",
   "execution_count": null,
   "id": "27d749d4",
   "metadata": {},
   "outputs": [],
   "source": [
    "zeroth_korean.split_names()"
   ]
  },
  {
   "cell_type": "code",
   "execution_count": null,
   "id": "0e52aa06",
   "metadata": {},
   "outputs": [],
   "source": [
    "test = zeroth_korean.test()"
   ]
  },
  {
   "cell_type": "code",
   "execution_count": null,
   "id": "852db9a6",
   "metadata": {},
   "outputs": [],
   "source": [
    "type(test), len(test)"
   ]
  },
  {
   "cell_type": "code",
   "execution_count": null,
   "id": "c03bf8c2",
   "metadata": {},
   "outputs": [],
   "source": [
    "index = 0"
   ]
  },
  {
   "cell_type": "code",
   "execution_count": null,
   "id": "d3ccf406",
   "metadata": {},
   "outputs": [],
   "source": [
    "_id, audio, txt = test[index]\n",
    "index += 1\n",
    "print(_id, audio.shape, txt)\n",
    "Audio(audio, rate=test.sample_rate)"
   ]
  },
  {
   "cell_type": "code",
   "execution_count": null,
   "id": "84aa86ae",
   "metadata": {},
   "outputs": [],
   "source": [
    "id_set = set()\n",
    "for _id, audio, text in test:\n",
    "    print(f\"{type(audio)} | {_id} | {text[:30]}\")\n",
    "    if _id in id_set:\n",
    "        raise ValueError(f\"Duplicate id found: {_id}\")\n",
    "    id_set.add(_id)\n",
    "    if len(_id) > 255:\n",
    "        raise ValueError(f\"Key length exceeds 255 characters: {_id}\")"
   ]
  }
 ],
 "metadata": {
  "kernelspec": {
   "display_name": "dev",
   "language": "python",
   "name": "python3"
  },
  "language_info": {
   "codemirror_mode": {
    "name": "ipython",
    "version": 3
   },
   "file_extension": ".py",
   "mimetype": "text/x-python",
   "name": "python",
   "nbconvert_exporter": "python",
   "pygments_lexer": "ipython3",
   "version": "3.10.18"
  }
 },
 "nbformat": 4,
 "nbformat_minor": 5
}
