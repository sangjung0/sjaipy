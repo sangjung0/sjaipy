{
 "cells": [
  {
   "cell_type": "code",
   "execution_count": null,
   "id": "ee652888",
   "metadata": {},
   "outputs": [],
   "source": [
    "from pathlib import Path"
   ]
  },
  {
   "cell_type": "code",
   "execution_count": null,
   "id": "69605764",
   "metadata": {},
   "outputs": [],
   "source": [
    "from sj_ai_utils.datasets.esic_v1 import ESICv1Dataset\n",
    "from sj_ai_utils.datasets.hugging_face import ZerothKorean\n",
    "from sj_ai_utils.datasets.hugging_face import KSPonSpeech\n",
    "from sj_ai_utils.datasets.l_hotse import VoxPopuli\n",
    "from sj_ai_utils.datasets.l_hotse import Tedlium\n",
    "from sj_ai_utils.datasets.l_hotse import LibriSpeech"
   ]
  },
  {
   "cell_type": "code",
   "execution_count": null,
   "id": "3914a031",
   "metadata": {},
   "outputs": [],
   "source": [
    "VOX_POPULI_PATH = \"/workspaces/dev/.datasets/vox_populi\"\n",
    "TEDLIUM_PATH = \"/workspaces/dev/.datasets/tedlium\"\n",
    "LIBRI_PATH = \"/workspaces/dev/.datasets/libri_speech\"\n",
    "ESIC_PATH = \"/workspaces/dev/test/performance_test/data/esic_train.json\""
   ]
  },
  {
   "cell_type": "code",
   "execution_count": null,
   "id": "1458f05b",
   "metadata": {},
   "outputs": [],
   "source": [
    "def count_word(dataset, anchor:int = -1):\n",
    "    all = 0\n",
    "    i = 0\n",
    "    for i, (_, _, text) in enumerate(dataset):\n",
    "        all += len(text.split())\n",
    "        if all >= anchor and anchor != -1:\n",
    "            break\n",
    "    return all, i"
   ]
  },
  {
   "cell_type": "code",
   "execution_count": null,
   "id": "fef1ea04",
   "metadata": {},
   "outputs": [],
   "source": [
    "esic_dataset = ESICv1Dataset.load(Path(ESIC_PATH)).sample(-1)\n",
    "print(f\"ESIC: {count_word(esic_dataset)}\")\n",
    "del esic_dataset"
   ]
  },
  {
   "cell_type": "code",
   "execution_count": null,
   "id": "b2890002",
   "metadata": {},
   "outputs": [],
   "source": [
    "anchor = 26685"
   ]
  },
  {
   "cell_type": "code",
   "execution_count": null,
   "id": "bca07311",
   "metadata": {},
   "outputs": [],
   "source": [
    "# zeroth_korean_dataset = ZerothKorean().train().sample(1829)\n",
    "# print(f\"Zeroth Korean: {count_word(zeroth_korean_dataset, anchor)}\")\n",
    "# del zeroth_korean_dataset"
   ]
  },
  {
   "cell_type": "code",
   "execution_count": null,
   "id": "be528e8d",
   "metadata": {},
   "outputs": [],
   "source": [
    "# vox_populi_dataset = VoxPopuli(Path(VOX_POPULI_PATH)).load_dev_asr_en().sample(207)\n",
    "# print(f\"Vox Populi: {count_word(vox_populi_dataset, anchor)}\")\n",
    "# del vox_populi_dataset"
   ]
  },
  {
   "cell_type": "code",
   "execution_count": null,
   "id": "507a1aa4",
   "metadata": {},
   "outputs": [],
   "source": [
    "# tedlium_dataset = Tedlium(Path(TEDLIUM_PATH)).load_dev().sample(-1)\n",
    "# print(f\"Tedlium: {count_word(tedlium_dataset, anchor)}\")\n",
    "# del tedlium_dataset"
   ]
  },
  {
   "cell_type": "code",
   "execution_count": null,
   "id": "62587cbf",
   "metadata": {},
   "outputs": [],
   "source": [
    "# libri_clean_dataset = LibriSpeech(Path(LIBRI_PATH)).load_dev_clean().sample(1268)\n",
    "# print(f\"Libri Clean: {count_word(libri_clean_dataset, anchor)}\")\n",
    "# del libri_clean_dataset"
   ]
  },
  {
   "cell_type": "code",
   "execution_count": null,
   "id": "b76c8952",
   "metadata": {},
   "outputs": [],
   "source": [
    "# libri_other_dataset = LibriSpeech(Path(LIBRI_PATH)).load_dev_other().sample(1511)\n",
    "# print(f\"Libri Other: {count_word(libri_other_dataset, anchor)}\")\n",
    "# del libri_other_dataset"
   ]
  },
  {
   "cell_type": "code",
   "execution_count": null,
   "id": "ea87c498",
   "metadata": {},
   "outputs": [],
   "source": [
    "# ks_pon_speech_dataset = KSPonSpeech().train().sample(2378)\n",
    "# print(f\"ks_pon_speech: {count_word(ks_pon_speech_dataset, anchor)}\")\n",
    "# del ks_pon_speech_dataset"
   ]
  }
 ],
 "metadata": {
  "kernelspec": {
   "display_name": "dev",
   "language": "python",
   "name": "python3"
  },
  "language_info": {
   "codemirror_mode": {
    "name": "ipython",
    "version": 3
   },
   "file_extension": ".py",
   "mimetype": "text/x-python",
   "name": "python",
   "nbconvert_exporter": "python",
   "pygments_lexer": "ipython3",
   "version": "3.10.18"
  }
 },
 "nbformat": 4,
 "nbformat_minor": 5
}
