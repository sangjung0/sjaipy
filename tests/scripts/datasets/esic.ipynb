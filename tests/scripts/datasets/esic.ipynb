{
 "cells": [
  {
   "cell_type": "code",
   "execution_count": null,
   "id": "9aa4565c",
   "metadata": {},
   "outputs": [],
   "source": [
    "from pathlib import Path\n",
    "from IPython.display import Audio"
   ]
  },
  {
   "cell_type": "code",
   "execution_count": null,
   "id": "ec12ab42",
   "metadata": {},
   "outputs": [],
   "source": [
    "from sjaipy.datasets.esic_v1 import ESICv1"
   ]
  },
  {
   "cell_type": "code",
   "execution_count": null,
   "id": "ec44352d",
   "metadata": {},
   "outputs": [],
   "source": [
    "ESIC_PATH = \"/workspaces/dev/.datasets/ESIC-v1.1\""
   ]
  },
  {
   "cell_type": "code",
   "execution_count": null,
   "id": "8603d3aa",
   "metadata": {},
   "outputs": [],
   "source": [
    "esic = ESICv1(Path(ESIC_PATH))"
   ]
  },
  {
   "cell_type": "code",
   "execution_count": null,
   "id": "c24e9dc7",
   "metadata": {},
   "outputs": [],
   "source": [
    "dataset = esic.test()"
   ]
  },
  {
   "cell_type": "code",
   "execution_count": null,
   "id": "1930bc0f",
   "metadata": {},
   "outputs": [],
   "source": [
    "idx = 2\n",
    "id_set = set()\n",
    "for i, sample in enumerate(dataset):\n",
    "    # print(f\"{audio.shape}|{_id}|{key}|{y} \")\n",
    "    if sample.id in id_set:\n",
    "        raise ValueError(f\"Duplicate recording ID found: {sample.id}\")\n",
    "    id_set.add(sample.id)\n",
    "\n",
    "    if i == idx:\n",
    "        break"
   ]
  },
  {
   "cell_type": "code",
   "execution_count": null,
   "id": "290acfc4",
   "metadata": {},
   "outputs": [],
   "source": [
    "len(sample.audio) / 16000"
   ]
  },
  {
   "cell_type": "code",
   "execution_count": null,
   "id": "20f021ab",
   "metadata": {},
   "outputs": [],
   "source": [
    "sample.ASR"
   ]
  },
  {
   "cell_type": "code",
   "execution_count": null,
   "id": "ab755bc2",
   "metadata": {},
   "outputs": [],
   "source": [
    "Audio(sample.audio, rate=16000)"
   ]
  }
 ],
 "metadata": {
  "kernelspec": {
   "display_name": ".venv",
   "language": "python",
   "name": "python3"
  },
  "language_info": {
   "codemirror_mode": {
    "name": "ipython",
    "version": 3
   },
   "file_extension": ".py",
   "mimetype": "text/x-python",
   "name": "python",
   "nbconvert_exporter": "python",
   "pygments_lexer": "ipython3",
   "version": "3.10.12"
  }
 },
 "nbformat": 4,
 "nbformat_minor": 5
}
