{
 "cells": [
  {
   "cell_type": "code",
   "execution_count": null,
   "id": "cbc0cf79",
   "metadata": {},
   "outputs": [],
   "source": [
    "from IPython.display import Audio"
   ]
  },
  {
   "cell_type": "code",
   "execution_count": null,
   "id": "bee70802",
   "metadata": {},
   "outputs": [],
   "source": [
    "from sj_ai_utils.datasets.hugging_face import AMI"
   ]
  },
  {
   "cell_type": "code",
   "execution_count": null,
   "id": "6c071084",
   "metadata": {},
   "outputs": [],
   "source": [
    "ami = AMI()"
   ]
  },
  {
   "cell_type": "code",
   "execution_count": null,
   "id": "aa9d5339",
   "metadata": {},
   "outputs": [],
   "source": [
    "ami.config_names"
   ]
  },
  {
   "cell_type": "code",
   "execution_count": null,
   "id": "0ad05a6c",
   "metadata": {},
   "outputs": [],
   "source": [
    "ami.split_names()"
   ]
  },
  {
   "cell_type": "code",
   "execution_count": null,
   "id": "0726a774",
   "metadata": {},
   "outputs": [],
   "source": [
    "dataset = ami.validation(task=(\"asr\", \"diarization\"))"
   ]
  },
  {
   "cell_type": "code",
   "execution_count": null,
   "id": "15aa54bc",
   "metadata": {},
   "outputs": [],
   "source": [
    "idx = 10\n",
    "id_set = set()\n",
    "for i, sample in enumerate(dataset):\n",
    "    # print(f\"{audio.shape}|{_id}|{key}|{y} \")\n",
    "    if sample.id in id_set:\n",
    "        raise ValueError(f\"Duplicate recording ID found: {sample.id}\")\n",
    "    id_set.add(sample.id)\n",
    "\n",
    "    if i == idx:\n",
    "        break"
   ]
  },
  {
   "cell_type": "code",
   "execution_count": null,
   "id": "bcc7a300",
   "metadata": {},
   "outputs": [],
   "source": [
    "len(sample.audio) / 16000"
   ]
  },
  {
   "cell_type": "code",
   "execution_count": null,
   "id": "92d5ca00",
   "metadata": {},
   "outputs": [],
   "source": [
    "print(\"\\n\".join(str(s) for s in (sample.Y['diarization'][:3] + sample.Y['diarization'][-3:])))"
   ]
  },
  {
   "cell_type": "code",
   "execution_count": null,
   "id": "921169a6",
   "metadata": {},
   "outputs": [],
   "source": [
    "sample.Y[\"asr\"]"
   ]
  },
  {
   "cell_type": "code",
   "execution_count": null,
   "id": "7d4865a5",
   "metadata": {},
   "outputs": [],
   "source": [
    "Audio(sample.audio, rate=16000)"
   ]
  }
 ],
 "metadata": {
  "kernelspec": {
   "display_name": "dev",
   "language": "python",
   "name": "python3"
  },
  "language_info": {
   "codemirror_mode": {
    "name": "ipython",
    "version": 3
   },
   "file_extension": ".py",
   "mimetype": "text/x-python",
   "name": "python",
   "nbconvert_exporter": "python",
   "pygments_lexer": "ipython3",
   "version": "3.10.12"
  }
 },
 "nbformat": 4,
 "nbformat_minor": 5
}
