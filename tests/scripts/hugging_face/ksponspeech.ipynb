{
 "cells": [
  {
   "cell_type": "code",
   "execution_count": null,
   "id": "104d87a5",
   "metadata": {},
   "outputs": [],
   "source": [
    "from IPython.display import Audio"
   ]
  },
  {
   "cell_type": "code",
   "execution_count": null,
   "id": "54f17338",
   "metadata": {},
   "outputs": [],
   "source": [
    "from sj_ai_utils.datasets.hugging_face import KSPonSpeech"
   ]
  },
  {
   "cell_type": "code",
   "execution_count": null,
   "id": "546ad6f2",
   "metadata": {},
   "outputs": [],
   "source": [
    "ks_pon_speech = KSPonSpeech()"
   ]
  },
  {
   "cell_type": "code",
   "execution_count": null,
   "id": "cd29a4dc",
   "metadata": {},
   "outputs": [],
   "source": [
    "ks_pon_speech.config_names"
   ]
  },
  {
   "cell_type": "code",
   "execution_count": null,
   "id": "9257817c",
   "metadata": {},
   "outputs": [],
   "source": [
    "ks_pon_speech.split_names()"
   ]
  },
  {
   "cell_type": "code",
   "execution_count": null,
   "id": "c5b971e3",
   "metadata": {},
   "outputs": [],
   "source": [
    "test = ks_pon_speech.test()"
   ]
  },
  {
   "cell_type": "code",
   "execution_count": null,
   "id": "021211cf",
   "metadata": {},
   "outputs": [],
   "source": [
    "idx = 1\n",
    "id_set = set()\n",
    "for i, sample in enumerate(test):\n",
    "    # print(f\"{audio.shape}|{_id}|{key}|{y} \")\n",
    "    if sample.id in id_set:\n",
    "        raise ValueError(f\"Duplicate recording ID found: {sample.id}\")\n",
    "    id_set.add(sample.id)\n",
    "\n",
    "    if i == idx:\n",
    "        break"
   ]
  },
  {
   "cell_type": "code",
   "execution_count": null,
   "id": "9dd5774e",
   "metadata": {},
   "outputs": [],
   "source": [
    "len(sample.audio) / 16000"
   ]
  },
  {
   "cell_type": "code",
   "execution_count": null,
   "id": "c29eb0b8",
   "metadata": {},
   "outputs": [],
   "source": [
    "sample.ASR"
   ]
  },
  {
   "cell_type": "code",
   "execution_count": null,
   "id": "58decbe4",
   "metadata": {},
   "outputs": [],
   "source": [
    "Audio(sample.audio, rate=16000)"
   ]
  }
 ],
 "metadata": {
  "kernelspec": {
   "display_name": ".venv",
   "language": "python",
   "name": "python3"
  },
  "language_info": {
   "codemirror_mode": {
    "name": "ipython",
    "version": 3
   },
   "file_extension": ".py",
   "mimetype": "text/x-python",
   "name": "python",
   "nbconvert_exporter": "python",
   "pygments_lexer": "ipython3",
   "version": "3.10.12"
  }
 },
 "nbformat": 4,
 "nbformat_minor": 5
}
