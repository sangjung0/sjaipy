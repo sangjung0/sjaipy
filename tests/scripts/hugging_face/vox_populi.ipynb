{
 "cells": [
  {
   "cell_type": "code",
   "execution_count": null,
   "id": "b7d74608",
   "metadata": {},
   "outputs": [],
   "source": [
    "import os\n",
    "os.environ[\"HF_HUB_ENABLE_HF_TRANSFER\"] = \"0\""
   ]
  },
  {
   "cell_type": "code",
   "execution_count": null,
   "id": "e4625cf9",
   "metadata": {},
   "outputs": [],
   "source": [
    "from sjaipy.datasets.hugging_face.vox_populi import VoxPopuli"
   ]
  },
  {
   "cell_type": "code",
   "execution_count": null,
   "id": "deefa065",
   "metadata": {},
   "outputs": [],
   "source": [
    "vox_populi = VoxPopuli()"
   ]
  },
  {
   "cell_type": "code",
   "execution_count": null,
   "id": "f91ae3ce",
   "metadata": {},
   "outputs": [],
   "source": [
    "vox_populi.config_names"
   ]
  },
  {
   "cell_type": "code",
   "execution_count": null,
   "id": "760a95f6",
   "metadata": {},
   "outputs": [],
   "source": [
    "vox_populi.split_names()"
   ]
  },
  {
   "cell_type": "code",
   "execution_count": null,
   "id": "41f37d89",
   "metadata": {},
   "outputs": [],
   "source": [
    "test = vox_populi.test()"
   ]
  },
  {
   "cell_type": "code",
   "execution_count": null,
   "id": "6845cc08",
   "metadata": {},
   "outputs": [],
   "source": [
    "idx = 2\n",
    "id_set = set()\n",
    "for i, sample in enumerate(test):\n",
    "    # print(f\"{audio.shape}|{_id}|{key}|{y} \")\n",
    "    if sample.id in id_set:\n",
    "        raise ValueError(f\"Duplicate recording ID found: {sample.id}\")\n",
    "    id_set.add(sample.id)\n",
    "\n",
    "    if i == idx:\n",
    "        break"
   ]
  },
  {
   "cell_type": "code",
   "execution_count": null,
   "id": "481b4e93",
   "metadata": {},
   "outputs": [],
   "source": [
    "len(sample.audio) / 16000"
   ]
  },
  {
   "cell_type": "code",
   "execution_count": null,
   "id": "d5f81fb2",
   "metadata": {},
   "outputs": [],
   "source": [
    "print(\"\\n\".join(str(s) for s in (sample.Y['diarization'][:3] + sample.Y['diarization'][-3:])))"
   ]
  },
  {
   "cell_type": "code",
   "execution_count": null,
   "id": "89b51333",
   "metadata": {},
   "outputs": [],
   "source": [
    "sample.Y[\"asr\"]"
   ]
  },
  {
   "cell_type": "code",
   "execution_count": null,
   "id": "6a0e38fe",
   "metadata": {},
   "outputs": [],
   "source": [
    "Audio(sample.audio, rate=16000)"
   ]
  }
 ],
 "metadata": {
  "kernelspec": {
   "display_name": ".venv",
   "language": "python",
   "name": "python3"
  },
  "language_info": {
   "codemirror_mode": {
    "name": "ipython",
    "version": 3
   },
   "file_extension": ".py",
   "mimetype": "text/x-python",
   "name": "python",
   "nbconvert_exporter": "python",
   "pygments_lexer": "ipython3",
   "version": "3.10.12"
  }
 },
 "nbformat": 4,
 "nbformat_minor": 5
}
