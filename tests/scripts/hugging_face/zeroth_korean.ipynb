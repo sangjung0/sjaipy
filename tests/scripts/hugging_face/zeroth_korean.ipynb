{
 "cells": [
  {
   "cell_type": "code",
   "execution_count": null,
   "id": "8c2fc269",
   "metadata": {},
   "outputs": [],
   "source": [
    "from IPython.display import Audio"
   ]
  },
  {
   "cell_type": "code",
   "execution_count": null,
   "id": "f25f3ead",
   "metadata": {},
   "outputs": [],
   "source": [
    "from sjaipy.datasets.hugging_face import ZerothKorean"
   ]
  },
  {
   "cell_type": "code",
   "execution_count": null,
   "id": "e5aa8e0c",
   "metadata": {},
   "outputs": [],
   "source": [
    "zeroth_korean = ZerothKorean()"
   ]
  },
  {
   "cell_type": "code",
   "execution_count": null,
   "id": "84805162",
   "metadata": {},
   "outputs": [],
   "source": [
    "zeroth_korean.config_names"
   ]
  },
  {
   "cell_type": "code",
   "execution_count": null,
   "id": "27d749d4",
   "metadata": {},
   "outputs": [],
   "source": [
    "zeroth_korean.split_names()"
   ]
  },
  {
   "cell_type": "code",
   "execution_count": null,
   "id": "0e52aa06",
   "metadata": {},
   "outputs": [],
   "source": [
    "test = zeroth_korean.test(task=(\"asr\", \"diarization\"))"
   ]
  },
  {
   "cell_type": "code",
   "execution_count": null,
   "id": "8123aadc",
   "metadata": {},
   "outputs": [],
   "source": [
    "idx = 101\n",
    "id_set = set()\n",
    "for i, sample in enumerate(test):\n",
    "    # print(f\"{audio.shape}|{_id}|{key}|{y} \")\n",
    "    if sample.id in id_set:\n",
    "        raise ValueError(f\"Duplicate recording ID found: {sample.id}\")\n",
    "    id_set.add(sample.id)\n",
    "\n",
    "    if i == idx:\n",
    "        break"
   ]
  },
  {
   "cell_type": "code",
   "execution_count": null,
   "id": "8e9b571d",
   "metadata": {},
   "outputs": [],
   "source": [
    "len(sample.audio) / 16000"
   ]
  },
  {
   "cell_type": "code",
   "execution_count": null,
   "id": "7d606f77",
   "metadata": {},
   "outputs": [],
   "source": [
    "print(\"\\n\".join(str(s) for s in (sample.diarization[:3] + sample.diarization[-3:])))"
   ]
  },
  {
   "cell_type": "code",
   "execution_count": null,
   "id": "71f466a9",
   "metadata": {},
   "outputs": [],
   "source": [
    "sample.ASR"
   ]
  },
  {
   "cell_type": "code",
   "execution_count": null,
   "id": "6bea9051",
   "metadata": {},
   "outputs": [],
   "source": [
    "Audio(sample.audio, rate=16000)"
   ]
  }
 ],
 "metadata": {
  "kernelspec": {
   "display_name": ".venv",
   "language": "python",
   "name": "python3"
  },
  "language_info": {
   "codemirror_mode": {
    "name": "ipython",
    "version": 3
   },
   "file_extension": ".py",
   "mimetype": "text/x-python",
   "name": "python",
   "nbconvert_exporter": "python",
   "pygments_lexer": "ipython3",
   "version": "3.10.12"
  }
 },
 "nbformat": 4,
 "nbformat_minor": 5
}
