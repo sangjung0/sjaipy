{
 "cells": [
  {
   "cell_type": "code",
   "execution_count": 1,
   "id": "8c2fc269",
   "metadata": {},
   "outputs": [],
   "source": [
    "from IPython.display import Audio"
   ]
  },
  {
   "cell_type": "code",
   "execution_count": 2,
   "id": "f25f3ead",
   "metadata": {},
   "outputs": [
    {
     "name": "stderr",
     "output_type": "stream",
     "text": [
      "/workspaces/dev/.venv/lib/python3.10/site-packages/tqdm/auto.py:21: TqdmWarning: IProgress not found. Please update jupyter and ipywidgets. See https://ipywidgets.readthedocs.io/en/stable/user_install.html\n",
      "  from .autonotebook import tqdm as notebook_tqdm\n",
      "/workspaces/dev/modules/ai-utils/sj_ai_utils/datasets/hugging_face/__init__.py:3: UserWarning: [INFO] AMIDataset 오디오가 연속적이지 않고 세그먼트로 나눠져 있음\n",
      "  from sj_ai_utils.datasets.hugging_face.ami import AMI\n",
      "/workspaces/dev/modules/ai-utils/sj_ai_utils/datasets/hugging_face/__init__.py:4: UserWarning: [WARN] TedliumDataset 오디오가 연속적이지 않고 세그먼트로 나눠져 있음.\n",
      "  from sj_ai_utils.datasets.hugging_face.tedlium import Tedlium\n",
      "/workspaces/dev/modules/ai-utils/sj_ai_utils/datasets/hugging_face/__init__.py:7: UserWarning: [INFO] ZerothKorean 오디오가 연속적이지 않고 세그먼트로 나눠져 있음\n",
      "  from sj_ai_utils.datasets.hugging_face.zeroth_korean import ZerothKorean\n",
      "/workspaces/dev/modules/ai-utils/sj_ai_utils/datasets/hugging_face/__init__.py:8: UserWarning: [INFO] KSPonSpeechDataset 화자분리 데이터 없음, 오디오가 연속적이지 않고 세그먼트로 나눠져 있음\n",
      "  from sj_ai_utils.datasets.hugging_face.ksponspeech import KSPonSpeech\n"
     ]
    }
   ],
   "source": [
    "from sj_ai_utils.datasets.hugging_face import ZerothKorean"
   ]
  },
  {
   "cell_type": "code",
   "execution_count": 3,
   "id": "e5aa8e0c",
   "metadata": {},
   "outputs": [],
   "source": [
    "zeroth_korean = ZerothKorean()"
   ]
  },
  {
   "cell_type": "code",
   "execution_count": 4,
   "id": "84805162",
   "metadata": {},
   "outputs": [
    {
     "name": "stderr",
     "output_type": "stream",
     "text": [
      "Using the latest cached version of the dataset since kresnik/zeroth_korean couldn't be found on the Hugging Face Hub\n"
     ]
    },
    {
     "data": {
      "text/plain": [
       "['default']"
      ]
     },
     "execution_count": 4,
     "metadata": {},
     "output_type": "execute_result"
    }
   ],
   "source": [
    "zeroth_korean.config_names"
   ]
  },
  {
   "cell_type": "code",
   "execution_count": 5,
   "id": "27d749d4",
   "metadata": {},
   "outputs": [
    {
     "name": "stderr",
     "output_type": "stream",
     "text": [
      "Using the latest cached version of the dataset since kresnik/zeroth_korean couldn't be found on the Hugging Face Hub\n",
      "Found the latest cached dataset configuration 'default' at /root/.cache/huggingface/datasets/kresnik___zeroth_korean/default/0.0.0/1fe937899f828af822293d05e086200946088bdf (last modified on Thu Sep 18 08:02:12 2025).\n"
     ]
    },
    {
     "data": {
      "text/plain": [
       "['train', 'test']"
      ]
     },
     "execution_count": 5,
     "metadata": {},
     "output_type": "execute_result"
    }
   ],
   "source": [
    "zeroth_korean.split_names()"
   ]
  },
  {
   "cell_type": "code",
   "execution_count": 6,
   "id": "0e52aa06",
   "metadata": {},
   "outputs": [
    {
     "name": "stderr",
     "output_type": "stream",
     "text": [
      "Using the latest cached version of the dataset since kresnik/zeroth_korean couldn't be found on the Hugging Face Hub\n",
      "Found the latest cached dataset configuration 'default' at /root/.cache/huggingface/datasets/kresnik___zeroth_korean/default/0.0.0/1fe937899f828af822293d05e086200946088bdf (last modified on Thu Sep 18 08:02:12 2025).\n"
     ]
    }
   ],
   "source": [
    "test = zeroth_korean.test(task=(\"asr\", \"diarization\"))"
   ]
  },
  {
   "cell_type": "code",
   "execution_count": 7,
   "id": "8123aadc",
   "metadata": {},
   "outputs": [
    {
     "ename": "",
     "evalue": "",
     "output_type": "error",
     "traceback": [
      "\u001b[1;31mThe Kernel crashed while executing code in the current cell or a previous cell. \n",
      "\u001b[1;31mPlease review the code in the cell(s) to identify a possible cause of the failure. \n",
      "\u001b[1;31mClick <a href='https://aka.ms/vscodeJupyterKernelCrash'>here</a> for more info. \n",
      "\u001b[1;31mView Jupyter <a href='command:jupyter.viewOutput'>log</a> for further details."
     ]
    }
   ],
   "source": [
    "idx = 101\n",
    "id_set = set()\n",
    "for i, sample in enumerate(test):\n",
    "    # print(f\"{audio.shape}|{_id}|{key}|{y} \")\n",
    "    if sample.id in id_set:\n",
    "        raise ValueError(f\"Duplicate recording ID found: {sample.id}\")\n",
    "    id_set.add(sample.id)\n",
    "\n",
    "    if i == idx:\n",
    "        break"
   ]
  },
  {
   "cell_type": "code",
   "execution_count": null,
   "id": "8e9b571d",
   "metadata": {},
   "outputs": [],
   "source": [
    "len(sample.audio) / 16000"
   ]
  },
  {
   "cell_type": "code",
   "execution_count": null,
   "id": "7d606f77",
   "metadata": {},
   "outputs": [],
   "source": [
    "print(\"\\n\".join(str(s) for s in (sample.Y['diarization'][:3] + sample.Y['diarization'][-3:])))"
   ]
  },
  {
   "cell_type": "code",
   "execution_count": null,
   "id": "71f466a9",
   "metadata": {},
   "outputs": [],
   "source": [
    "sample.Y[\"asr\"]"
   ]
  },
  {
   "cell_type": "code",
   "execution_count": null,
   "id": "6bea9051",
   "metadata": {},
   "outputs": [],
   "source": [
    "Audio(sample.audio, rate=16000)"
   ]
  }
 ],
 "metadata": {
  "kernelspec": {
   "display_name": "dev",
   "language": "python",
   "name": "python3"
  },
  "language_info": {
   "codemirror_mode": {
    "name": "ipython",
    "version": 3
   },
   "file_extension": ".py",
   "mimetype": "text/x-python",
   "name": "python",
   "nbconvert_exporter": "python",
   "pygments_lexer": "ipython3",
   "version": "3.10.12"
  }
 },
 "nbformat": 4,
 "nbformat_minor": 5
}
