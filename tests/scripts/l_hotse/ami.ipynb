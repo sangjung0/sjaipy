{
 "cells": [
  {
   "cell_type": "code",
   "execution_count": null,
   "id": "129447ab",
   "metadata": {},
   "outputs": [],
   "source": [
    "from pathlib import Path\n",
    "from IPython.display import Audio"
   ]
  },
  {
   "cell_type": "code",
   "execution_count": null,
   "id": "410384e8",
   "metadata": {},
   "outputs": [],
   "source": [
    "from sjaipy.datasets.l_hotse import AMI"
   ]
  },
  {
   "cell_type": "code",
   "execution_count": null,
   "id": "0ce1c290",
   "metadata": {},
   "outputs": [],
   "source": [
    "path = Path(\"/workspaces/dev/.datasets/ami\")"
   ]
  },
  {
   "cell_type": "code",
   "execution_count": null,
   "id": "07fc2cbd",
   "metadata": {},
   "outputs": [],
   "source": [
    "ami = AMI(path)"
   ]
  },
  {
   "cell_type": "code",
   "execution_count": null,
   "id": "03ac47fc",
   "metadata": {},
   "outputs": [],
   "source": [
    "dev_set = ami.load_dev_ihm(task=(\"asr\", \"diarization\"))"
   ]
  },
  {
   "cell_type": "code",
   "execution_count": null,
   "id": "773d06e9",
   "metadata": {},
   "outputs": [],
   "source": [
    "idx = 0\n",
    "id_set = set()\n",
    "for i, sample in enumerate(dev_set):\n",
    "    # print(f\"{audio.shape}|{_id}|{key}|{y} \")\n",
    "    if sample.id in id_set:\n",
    "        raise ValueError(f\"Duplicate recording ID found: {sample.id}\")\n",
    "    id_set.add(sample.id)\n",
    "\n",
    "    if i == idx:\n",
    "        break"
   ]
  },
  {
   "cell_type": "code",
   "execution_count": null,
   "id": "62284cfe",
   "metadata": {},
   "outputs": [],
   "source": [
    "len(sample.audio) / 16000"
   ]
  },
  {
   "cell_type": "code",
   "execution_count": null,
   "id": "09767aee",
   "metadata": {},
   "outputs": [],
   "source": [
    "print(\"\\n\".join(str(s) for s in (sample.diarization[:3] + sample.diarization[-3:])))"
   ]
  },
  {
   "cell_type": "code",
   "execution_count": null,
   "id": "261b20be",
   "metadata": {},
   "outputs": [],
   "source": [
    "sample.ASR"
   ]
  },
  {
   "cell_type": "code",
   "execution_count": null,
   "id": "4a3e0cc9",
   "metadata": {},
   "outputs": [],
   "source": [
    "Audio(sample.audio, rate=16000)"
   ]
  }
 ],
 "metadata": {
  "kernelspec": {
   "display_name": ".venv",
   "language": "python",
   "name": "python3"
  },
  "language_info": {
   "codemirror_mode": {
    "name": "ipython",
    "version": 3
   },
   "file_extension": ".py",
   "mimetype": "text/x-python",
   "name": "python",
   "nbconvert_exporter": "python",
   "pygments_lexer": "ipython3",
   "version": "3.10.12"
  }
 },
 "nbformat": 4,
 "nbformat_minor": 5
}
