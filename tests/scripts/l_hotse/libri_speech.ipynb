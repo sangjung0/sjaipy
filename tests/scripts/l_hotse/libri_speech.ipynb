{
 "cells": [
  {
   "cell_type": "code",
   "execution_count": null,
   "id": "129447ab",
   "metadata": {},
   "outputs": [],
   "source": [
    "from pathlib import Path\n",
    "from IPython.display import Audio"
   ]
  },
  {
   "cell_type": "code",
   "execution_count": null,
   "id": "734d9865",
   "metadata": {},
   "outputs": [],
   "source": [
    "from sj_ai_utils.datasets.l_hotse import LibriSpeech"
   ]
  },
  {
   "cell_type": "code",
   "execution_count": null,
   "id": "0ce1c290",
   "metadata": {},
   "outputs": [],
   "source": [
    "path = Path(\"/workspaces/dev/.datasets/libri_speech\")"
   ]
  },
  {
   "cell_type": "code",
   "execution_count": null,
   "id": "07fc2cbd",
   "metadata": {},
   "outputs": [],
   "source": [
    "libri_speech = LibriSpeech(path)"
   ]
  },
  {
   "cell_type": "code",
   "execution_count": null,
   "id": "c68fa193",
   "metadata": {},
   "outputs": [],
   "source": [
    "dev_set = libri_speech.load_dev_clean(task=[\"asr\", \"diarization\"])"
   ]
  },
  {
   "cell_type": "code",
   "execution_count": null,
   "id": "2af91f9d",
   "metadata": {},
   "outputs": [],
   "source": [
    "idx = 12\n",
    "id_set = set()\n",
    "for i, sample in enumerate(dev_set):\n",
    "    if sample.id in id_set:\n",
    "        raise ValueError(f\"Duplicate recording ID found: {sample.id}\")\n",
    "    id_set.add(sample.id)\n",
    "\n",
    "    if i == idx:\n",
    "        break"
   ]
  },
  {
   "cell_type": "code",
   "execution_count": null,
   "id": "e11828ad",
   "metadata": {},
   "outputs": [],
   "source": [
    "len(sample.audio) / 16000"
   ]
  },
  {
   "cell_type": "code",
   "execution_count": null,
   "id": "9046f8c8",
   "metadata": {},
   "outputs": [],
   "source": [
    "print(\"\\n\".join(str(s) for s in (sample.diarization[:3] + sample.diarization[-3:])))"
   ]
  },
  {
   "cell_type": "code",
   "execution_count": null,
   "id": "17e6a13e",
   "metadata": {},
   "outputs": [],
   "source": [
    "sample.ASR"
   ]
  },
  {
   "cell_type": "code",
   "execution_count": null,
   "id": "f69c5957",
   "metadata": {},
   "outputs": [],
   "source": [
    "Audio(sample.audio, rate=16000)"
   ]
  }
 ],
 "metadata": {
  "kernelspec": {
   "display_name": ".venv",
   "language": "python",
   "name": "python3"
  },
  "language_info": {
   "codemirror_mode": {
    "name": "ipython",
    "version": 3
   },
   "file_extension": ".py",
   "mimetype": "text/x-python",
   "name": "python",
   "nbconvert_exporter": "python",
   "pygments_lexer": "ipython3",
   "version": "3.10.12"
  }
 },
 "nbformat": 4,
 "nbformat_minor": 5
}
