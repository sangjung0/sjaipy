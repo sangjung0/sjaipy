{
 "cells": [
  {
   "cell_type": "code",
   "execution_count": null,
   "id": "129447ab",
   "metadata": {},
   "outputs": [],
   "source": [
    "from pathlib import Path\n",
    "from IPython.display import Audio"
   ]
  },
  {
   "cell_type": "code",
   "execution_count": null,
   "id": "6fef76de",
   "metadata": {},
   "outputs": [],
   "source": [
    "from sj_ai_utils.datasets.l_hotse import Tedlium"
   ]
  },
  {
   "cell_type": "code",
   "execution_count": null,
   "id": "0ce1c290",
   "metadata": {},
   "outputs": [],
   "source": [
    "path = Path(\"/workspaces/dev/.datasets/tedlium\")"
   ]
  },
  {
   "cell_type": "code",
   "execution_count": null,
   "id": "54b43f87",
   "metadata": {},
   "outputs": [],
   "source": [
    "tedlium = Tedlium(path)"
   ]
  },
  {
   "cell_type": "code",
   "execution_count": null,
   "id": "f6e73406",
   "metadata": {},
   "outputs": [],
   "source": [
    "dev_set = tedlium.load_dev(task=(\"asr\", \"diarization\"))"
   ]
  },
  {
   "cell_type": "code",
   "execution_count": null,
   "id": "c067a303",
   "metadata": {},
   "outputs": [],
   "source": [
    "idx = 1\n",
    "id_set = set()\n",
    "for i, sample in enumerate(dev_set):\n",
    "    # print(f\"{audio.shape}|{_id}|{key}|{y} \")\n",
    "    if sample.id in id_set:\n",
    "        raise ValueError(f\"Duplicate recording ID found: {sample.id}\")\n",
    "    id_set.add(sample.id)\n",
    "\n",
    "    if i == idx:\n",
    "        break"
   ]
  },
  {
   "cell_type": "code",
   "execution_count": null,
   "id": "5c58cc8a",
   "metadata": {},
   "outputs": [],
   "source": [
    "len(sample.audio) / 16000"
   ]
  },
  {
   "cell_type": "code",
   "execution_count": null,
   "id": "8d22e90a",
   "metadata": {},
   "outputs": [],
   "source": [
    "print(\"\\n\".join(str(s) for s in (sample.Y['diarization'][:3] + sample.Y['diarization'][-3:])))"
   ]
  },
  {
   "cell_type": "code",
   "execution_count": null,
   "id": "76e1d548",
   "metadata": {},
   "outputs": [],
   "source": [
    "sample.Y[\"asr\"]"
   ]
  },
  {
   "cell_type": "code",
   "execution_count": null,
   "id": "21652c39",
   "metadata": {},
   "outputs": [],
   "source": [
    "Audio(sample.audio, rate=16000)"
   ]
  }
 ],
 "metadata": {
  "kernelspec": {
   "display_name": "dev",
   "language": "python",
   "name": "python3"
  },
  "language_info": {
   "codemirror_mode": {
    "name": "ipython",
    "version": 3
   },
   "file_extension": ".py",
   "mimetype": "text/x-python",
   "name": "python",
   "nbconvert_exporter": "python",
   "pygments_lexer": "ipython3",
   "version": "3.10.12"
  }
 },
 "nbformat": 4,
 "nbformat_minor": 5
}
