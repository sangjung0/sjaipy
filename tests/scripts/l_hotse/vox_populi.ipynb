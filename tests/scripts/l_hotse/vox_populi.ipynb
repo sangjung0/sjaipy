{
 "cells": [
  {
   "cell_type": "code",
   "execution_count": null,
   "id": "129447ab",
   "metadata": {},
   "outputs": [],
   "source": [
    "from pathlib import Path\n",
    "from IPython.display import Audio"
   ]
  },
  {
   "cell_type": "code",
   "execution_count": null,
   "id": "9356b471",
   "metadata": {},
   "outputs": [],
   "source": [
    "from sjaipy.datasets.l_hotse import VoxPopuli"
   ]
  },
  {
   "cell_type": "code",
   "execution_count": null,
   "id": "0ce1c290",
   "metadata": {},
   "outputs": [],
   "source": [
    "path = Path(\"/workspaces/dev/.datasets/vox_populi\")"
   ]
  },
  {
   "cell_type": "code",
   "execution_count": null,
   "id": "48492c76",
   "metadata": {},
   "outputs": [],
   "source": [
    "vox_populi = VoxPopuli(path)"
   ]
  },
  {
   "cell_type": "code",
   "execution_count": null,
   "id": "9d5fa7fa",
   "metadata": {},
   "outputs": [],
   "source": [
    "dev_set = vox_populi.load_dev_asr_en(task=(\"asr\", \"diarization\"))"
   ]
  },
  {
   "cell_type": "code",
   "execution_count": null,
   "id": "b36b4d28",
   "metadata": {},
   "outputs": [],
   "source": [
    "idx = 1\n",
    "id_set = set()\n",
    "for i, sample in enumerate(dev_set):\n",
    "    # print(f\"{audio.shape}|{_id}|{key}|{y} \")\n",
    "    if sample.id in id_set:\n",
    "        raise ValueError(f\"Duplicate recording ID found: {sample.id}\")\n",
    "    id_set.add(sample.id)\n",
    "\n",
    "    if i == idx:\n",
    "        break"
   ]
  },
  {
   "cell_type": "code",
   "execution_count": null,
   "id": "2fd85354",
   "metadata": {},
   "outputs": [],
   "source": [
    "len(sample.audio) / 16000"
   ]
  },
  {
   "cell_type": "code",
   "execution_count": null,
   "id": "b37442e8",
   "metadata": {},
   "outputs": [],
   "source": [
    "print(\"\\n\".join(str(s) for s in (sample.diarization[:3] + sample.diarization[-3:])))"
   ]
  },
  {
   "cell_type": "code",
   "execution_count": null,
   "id": "68555a07",
   "metadata": {},
   "outputs": [],
   "source": [
    "sample.ASR"
   ]
  },
  {
   "cell_type": "code",
   "execution_count": 13,
   "id": "bb0f4f84",
   "metadata": {},
   "outputs": [],
   "source": [
    "Audio(sample.audio, rate=16000)"
   ]
  }
 ],
 "metadata": {
  "kernelspec": {
   "display_name": ".venv",
   "language": "python",
   "name": "python3"
  },
  "language_info": {
   "codemirror_mode": {
    "name": "ipython",
    "version": 3
   },
   "file_extension": ".py",
   "mimetype": "text/x-python",
   "name": "python",
   "nbconvert_exporter": "python",
   "pygments_lexer": "ipython3",
   "version": "3.10.12"
  }
 },
 "nbformat": 4,
 "nbformat_minor": 5
}
